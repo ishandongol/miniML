{
 "cells": [
  {
   "cell_type": "markdown",
   "metadata": {},
   "source": [
    "<b>Linear Regression with Gradient Descent</b>"
   ]
  },
  {
   "cell_type": "code",
   "execution_count": 3,
   "metadata": {},
   "outputs": [],
   "source": [
    "import matplotlib.pyplot as plt\n",
    "import numpy as np\n",
    "import pandas as pd\n",
    "from sklearn.datasets import load_boston\n",
    "from sklearn.model_selection import train_test_split"
   ]
  },
  {
   "cell_type": "markdown",
   "metadata": {},
   "source": [
    "Class to calculate Gradient Descent"
   ]
  },
  {
   "cell_type": "code",
   "execution_count": 4,
   "metadata": {},
   "outputs": [],
   "source": [
    "class MiniML:\n",
    "    \n",
    "    __hypothesis = None\n",
    "    \n",
    "    def __init__(self):\n",
    "        print(\"MiniML\")\n",
    "        \n",
    "    def linearEquation(self,X,W):\n",
    "        self.__hypothesis = X @ W.T\n",
    "        return self.__hypothesis\n",
    "        \n",
    "    def calculateCost(self,X,Y,W,lamda=0):\n",
    "        inner = np.power(((self.linearEquation(X,W))-Y),2) + (lamda * np.sum(np.power(W,2)))\n",
    "        return (np.sum(inner)/(2*len(X)))\n",
    "    \n",
    "    \n",
    "    def linearRegression(self,X,Y,W,alpha,lamda,max_iterations):\n",
    "        cost = np.zeros(max_iterations)\n",
    "        \n",
    "        for i in range(max_iterations):\n",
    "            W = W - (alpha/len(X)) * (np.sum(X * (X @ W.T - Y), axis=0)+(lamda * W))\n",
    "            cost[i] = self.calculateCost(X,Y,W,lamda)\n",
    "            if(i % 1000 == 0):\n",
    "                print(\"Cost\", cost[i])\n",
    "                \n",
    "        return W,cost\n",
    "    \n",
    "    def getHypothesis(self):\n",
    "        return self.__hypothesis\n",
    "    \n",
    "    def train(self,X,Y,W,alpha,max_iterations,lamda=0):\n",
    "        return self.linearRegression(X,Y,W,alpha,lamda,max_iterations)\n",
    "    \n",
    "    def validate(self,X,Y,W):\n",
    "        return self.calculateCost(X,Y,W)\n",
    "    \n",
    "    def test(self,X,Y,W):\n",
    "        return self.validate(X,Y,W)"
   ]
  },
  {
   "cell_type": "code",
   "execution_count": 5,
   "metadata": {},
   "outputs": [
    {
     "data": {
      "text/html": [
       "<div>\n",
       "<style scoped>\n",
       "    .dataframe tbody tr th:only-of-type {\n",
       "        vertical-align: middle;\n",
       "    }\n",
       "\n",
       "    .dataframe tbody tr th {\n",
       "        vertical-align: top;\n",
       "    }\n",
       "\n",
       "    .dataframe thead th {\n",
       "        text-align: right;\n",
       "    }\n",
       "</style>\n",
       "<table border=\"1\" class=\"dataframe\">\n",
       "  <thead>\n",
       "    <tr style=\"text-align: right;\">\n",
       "      <th></th>\n",
       "      <th>CRIM</th>\n",
       "      <th>ZN</th>\n",
       "      <th>INDUS</th>\n",
       "      <th>CHAS</th>\n",
       "      <th>NOX</th>\n",
       "      <th>RM</th>\n",
       "      <th>AGE</th>\n",
       "      <th>DIS</th>\n",
       "      <th>RAD</th>\n",
       "      <th>TAX</th>\n",
       "      <th>PTRATIO</th>\n",
       "      <th>B</th>\n",
       "      <th>LSTAT</th>\n",
       "      <th>PRICE</th>\n",
       "    </tr>\n",
       "  </thead>\n",
       "  <tbody>\n",
       "    <tr>\n",
       "      <th>0</th>\n",
       "      <td>-0.417300</td>\n",
       "      <td>0.284548</td>\n",
       "      <td>-1.286636</td>\n",
       "      <td>-0.272329</td>\n",
       "      <td>-0.144075</td>\n",
       "      <td>0.413263</td>\n",
       "      <td>-0.119895</td>\n",
       "      <td>0.140075</td>\n",
       "      <td>-0.981871</td>\n",
       "      <td>-0.665949</td>\n",
       "      <td>-1.457558</td>\n",
       "      <td>0.440616</td>\n",
       "      <td>-1.074499</td>\n",
       "      <td>0.159528</td>\n",
       "    </tr>\n",
       "    <tr>\n",
       "      <th>1</th>\n",
       "      <td>-0.414859</td>\n",
       "      <td>-0.487240</td>\n",
       "      <td>-0.592794</td>\n",
       "      <td>-0.272329</td>\n",
       "      <td>-0.739530</td>\n",
       "      <td>0.194082</td>\n",
       "      <td>0.366803</td>\n",
       "      <td>0.556609</td>\n",
       "      <td>-0.867024</td>\n",
       "      <td>-0.986353</td>\n",
       "      <td>-0.302794</td>\n",
       "      <td>0.440616</td>\n",
       "      <td>-0.491953</td>\n",
       "      <td>-0.101424</td>\n",
       "    </tr>\n",
       "    <tr>\n",
       "      <th>2</th>\n",
       "      <td>-0.414861</td>\n",
       "      <td>-0.487240</td>\n",
       "      <td>-0.592794</td>\n",
       "      <td>-0.272329</td>\n",
       "      <td>-0.739530</td>\n",
       "      <td>1.281446</td>\n",
       "      <td>-0.265549</td>\n",
       "      <td>0.556609</td>\n",
       "      <td>-0.867024</td>\n",
       "      <td>-0.986353</td>\n",
       "      <td>-0.302794</td>\n",
       "      <td>0.396035</td>\n",
       "      <td>-1.207532</td>\n",
       "      <td>1.322937</td>\n",
       "    </tr>\n",
       "    <tr>\n",
       "      <th>3</th>\n",
       "      <td>-0.414270</td>\n",
       "      <td>-0.487240</td>\n",
       "      <td>-1.305586</td>\n",
       "      <td>-0.272329</td>\n",
       "      <td>-0.834458</td>\n",
       "      <td>1.015298</td>\n",
       "      <td>-0.809088</td>\n",
       "      <td>1.076671</td>\n",
       "      <td>-0.752178</td>\n",
       "      <td>-1.105022</td>\n",
       "      <td>0.112920</td>\n",
       "      <td>0.415751</td>\n",
       "      <td>-1.360171</td>\n",
       "      <td>1.181589</td>\n",
       "    </tr>\n",
       "    <tr>\n",
       "      <th>4</th>\n",
       "      <td>-0.410003</td>\n",
       "      <td>-0.487240</td>\n",
       "      <td>-1.305586</td>\n",
       "      <td>-0.272329</td>\n",
       "      <td>-0.834458</td>\n",
       "      <td>1.227362</td>\n",
       "      <td>-0.510674</td>\n",
       "      <td>1.076671</td>\n",
       "      <td>-0.752178</td>\n",
       "      <td>-1.105022</td>\n",
       "      <td>0.112920</td>\n",
       "      <td>0.440616</td>\n",
       "      <td>-1.025487</td>\n",
       "      <td>1.486032</td>\n",
       "    </tr>\n",
       "  </tbody>\n",
       "</table>\n",
       "</div>"
      ],
      "text/plain": [
       "       CRIM        ZN     INDUS      CHAS       NOX        RM       AGE  \\\n",
       "0 -0.417300  0.284548 -1.286636 -0.272329 -0.144075  0.413263 -0.119895   \n",
       "1 -0.414859 -0.487240 -0.592794 -0.272329 -0.739530  0.194082  0.366803   \n",
       "2 -0.414861 -0.487240 -0.592794 -0.272329 -0.739530  1.281446 -0.265549   \n",
       "3 -0.414270 -0.487240 -1.305586 -0.272329 -0.834458  1.015298 -0.809088   \n",
       "4 -0.410003 -0.487240 -1.305586 -0.272329 -0.834458  1.227362 -0.510674   \n",
       "\n",
       "        DIS       RAD       TAX   PTRATIO         B     LSTAT     PRICE  \n",
       "0  0.140075 -0.981871 -0.665949 -1.457558  0.440616 -1.074499  0.159528  \n",
       "1  0.556609 -0.867024 -0.986353 -0.302794  0.440616 -0.491953 -0.101424  \n",
       "2  0.556609 -0.867024 -0.986353 -0.302794  0.396035 -1.207532  1.322937  \n",
       "3  1.076671 -0.752178 -1.105022  0.112920  0.415751 -1.360171  1.181589  \n",
       "4  1.076671 -0.752178 -1.105022  0.112920  0.440616 -1.025487  1.486032  "
      ]
     },
     "execution_count": 5,
     "metadata": {},
     "output_type": "execute_result"
    }
   ],
   "source": [
    "boston = load_boston()\n",
    "bostonData = pd.DataFrame(boston.data)\n",
    "bostonData.columns = boston.feature_names\n",
    "bostonData['PRICE'] = boston.target\n",
    "bostonData = (bostonData - bostonData.mean()) / bostonData.std()\n",
    "bostonData.head()"
   ]
  },
  {
   "cell_type": "code",
   "execution_count": 6,
   "metadata": {},
   "outputs": [
    {
     "name": "stdout",
     "output_type": "stream",
     "text": [
      "(506, 14)\n",
      "(506, 1)\n",
      "Training Data: \t 303\n",
      "Validation Data: \t 102\n",
      "Test Data: \t 101\n"
     ]
    }
   ],
   "source": [
    "Y = bostonData.iloc[:,13:14].values\n",
    "X = bostonData.iloc[:,0:13]\n",
    "ones = np.ones([len(X),1])\n",
    "X = np.concatenate((ones,X), axis = 1)\n",
    "print(X.shape)\n",
    "print(Y.shape)\n",
    "X_train, X_rest, Y_train, Y_rest = train_test_split(X,Y,test_size=0.4)\n",
    "X_test,X_validate,Y_test,Y_validate = train_test_split(X_rest,Y_rest,test_size=0.5)\n",
    "print('Training Data: \\t',len(X_train))\n",
    "print('Validation Data: \\t',len(X_validate))\n",
    "print('Test Data: \\t',len(X_test))"
   ]
  },
  {
   "cell_type": "code",
   "execution_count": 68,
   "metadata": {},
   "outputs": [],
   "source": [
    "alpha = 0.001 # Learning Rate\n",
    "lamda = 0.1 # regularization rate\n",
    "max_iterations = 10000\n",
    "W = np.zeros((1,len(X_train[0,:])))"
   ]
  },
  {
   "cell_type": "code",
   "execution_count": 69,
   "metadata": {},
   "outputs": [
    {
     "name": "stdout",
     "output_type": "stream",
     "text": [
      "MiniML\n",
      "Cost 0.5273420327082352\n",
      "Cost 0.17618697341841721\n",
      "Cost 0.16383825215983563\n",
      "Cost 0.16167954435101745\n",
      "Cost 0.160730650202904\n",
      "Cost 0.16027503016383585\n",
      "Cost 0.16015278687842655\n",
      "Cost 0.16025692880808143\n",
      "Cost 0.16050803811242348\n",
      "Cost 0.160849751211286\n"
     ]
    }
   ],
   "source": [
    "miniML = MiniML()\n",
    "Weight, Cost = miniML.train(X_train,Y_train,W,alpha,max_iterations,lamda)"
   ]
  },
  {
   "cell_type": "code",
   "execution_count": 70,
   "metadata": {},
   "outputs": [
    {
     "name": "stdout",
     "output_type": "stream",
     "text": [
      "       Theta\n",
      "0   0.010339\n",
      "1  -0.111779\n",
      "2   0.154122\n",
      "3  -0.066044\n",
      "4   0.115491\n",
      "5  -0.153139\n",
      "6   0.246629\n",
      "7   0.013243\n",
      "8  -0.322798\n",
      "9   0.179998\n",
      "10 -0.104831\n",
      "11 -0.206440\n",
      "12  0.070686\n",
      "13 -0.440643\n"
     ]
    },
    {
     "data": {
      "text/plain": [
       "Text(0.5,1,'Prices vs predicted prices: $Y_i$ vs $\\\\hat{y}_i$ (Training)')"
      ]
     },
     "execution_count": 70,
     "metadata": {},
     "output_type": "execute_result"
    },
    {
     "data": {
      "image/png": "[encoded data removed]",
      "text/plain": [
       "<Figure size 432x288 with 1 Axes>"
      ]
     },
     "metadata": {},
     "output_type": "display_data"
    }
   ],
   "source": [
    "w = Weight.flatten()\n",
    "pandasW = pd.DataFrame(Weight.T)\n",
    "pandasW.columns = [\"Theta\"]\n",
    "print(pandasW)\n",
    "plt.scatter(Y_train,miniML.getHypothesis())\n",
    "plt.xlabel(\"Prices: $Y_I$\")\n",
    "plt.ylabel(\"Predicted Prices: $\\hat{y}_i$\")\n",
    "plt.title(\"Prices vs predicted prices: $Y_i$ vs $\\hat{y}_i$ (Training)\")\n",
    "# plt.plot(bostonData.RM,(w[6]*bostonData.RM)+w[0],color='r')"
   ]
  },
  {
   "cell_type": "code",
   "execution_count": 71,
   "metadata": {},
   "outputs": [
    {
     "name": "stdout",
     "output_type": "stream",
     "text": [
      "Cost\n",
      "\n",
      "Training Cost \t\t 0.1612428504426053\n",
      "\n"
     ]
    }
   ],
   "source": [
    "print('Cost')\n",
    "print('')\n",
    "print(\"Training Cost \\t\\t\", Cost[len(Cost)-1])\n",
    "print('')\n"
   ]
  },
  {
   "cell_type": "code",
   "execution_count": 72,
   "metadata": {},
   "outputs": [
    {
     "name": "stdout",
     "output_type": "stream",
     "text": [
      "Validation Cost \t 0.1513448456213892\n",
      "\n"
     ]
    },
    {
     "data": {
      "text/plain": [
       "Text(0.5,1,'Prices vs predicted prices: $Y_i$ vs $\\\\hat{y}_i$ (Validation)')"
      ]
     },
     "execution_count": 72,
     "metadata": {},
     "output_type": "execute_result"
    },
    {
     "data": {
      "image/png": "[encoded data removed]",
      "text/plain": [
       "<Figure size 432x288 with 1 Axes>"
      ]
     },
     "metadata": {},
     "output_type": "display_data"
    }
   ],
   "source": [
    "cost_validation = miniML.validate(X_validate,Y_validate,Weight)\n",
    "print(\"Validation Cost \\t\",cost_validation)\n",
    "print('')\n",
    "plt.scatter(Y_validate,miniML.getHypothesis())\n",
    "plt.xlabel(\"Prices: $Y_I$\")\n",
    "plt.ylabel(\"Predicted Prices: $\\hat{y}_i$\")\n",
    "plt.title(\"Prices vs predicted prices: $Y_i$ vs $\\hat{y}_i$ (Validation)\")"
   ]
  },
  {
   "cell_type": "code",
   "execution_count": 76,
   "metadata": {},
   "outputs": [
    {
     "name": "stdout",
     "output_type": "stream",
     "text": [
      "Test Cost \t\t 0.10997238715613794\n"
     ]
    },
    {
     "data": {
      "text/plain": [
       "Text(0.5,1,'Prices vs predicted prices: $Y_i$ vs $\\\\hat{y}_i$ (Test)')"
      ]
     },
     "execution_count": 76,
     "metadata": {},
     "output_type": "execute_result"
    },
    {
     "data": {
      "image/png": "[encoded data removed]",
      "text/plain": [
       "<Figure size 432x288 with 1 Axes>"
      ]
     },
     "metadata": {},
     "output_type": "display_data"
    }
   ],
   "source": [
    "cost_test = miniML.test(X_test,Y_test,Weight)\n",
    "print(\"Test Cost \\t\\t\",cost_test)\n",
    "plt.scatter(Y_test,miniML.getHypothesis())\n",
    "plt.xlabel(\"Prices: $Y_I$\")\n",
    "plt.ylabel(\"Predicted Prices: $\\hat{y}_i$\")\n",
    "plt.title(\"Prices vs predicted prices: $Y_i$ vs $\\hat{y}_i$ (Test)\")"
   ]
  },
  {
   "cell_type": "code",
   "execution_count": null,
   "metadata": {},
   "outputs": [],
   "source": []
  }
 ],
 "metadata": {
  "kernelspec": {
   "display_name": "Python 3",
   "language": "python",
   "name": "python3"
  },
  "language_info": {
   "codemirror_mode": {
    "name": "ipython",
    "version": 3
   },
   "file_extension": ".py",
   "mimetype": "text/x-python",
   "name": "python",
   "nbconvert_exporter": "python",
   "pygments_lexer": "ipython3",
   "version": "3.6.5"
  }
 },
 "nbformat": 4,
 "nbformat_minor": 2
}
